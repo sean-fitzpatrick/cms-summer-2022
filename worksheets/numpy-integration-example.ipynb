{
 "cells": [
  {
   "cell_type": "markdown",
   "id": "a659ea91",
   "metadata": {
    "hidden": false
   },
   "source": [
    "# Math 2565 coding example: Using NumPy\n",
    "\n",
    "Here we will give a quick example demonstrating the use of Simpson's rule in NumPy, as [implemented by Patrick Walls](https://personal.math.ubc.ca/~pwalls/math-python/integration/simpsons-rule/).\n",
    "\n",
    "Mostly we have been using SymPy, which is great for symbolic manipulation, but not for numerical computation. That's where NumPy (or its sometimes more powerful friend, SciPy) comes in.\n",
    "\n",
    "NumPy also implements common mathematical functions, like trig functions and square roots.\n",
    "If we are using a routine that is coded using NumPy, we should use the NumPy version of these functions.\n",
    "\n",
    "Note that functions are treated a bit differently as well: we are not just trying to define a symbolic expression. In SymPy, we can (after defining `x` as a symbol) enter something like `f = sy.sqrt(1+3*(sy.sin(x))**2))`, and if we ask the computer to display `f`, we get a nice expression: $\\sqrt{1+3\\sin^2(x)}$.\n",
    "\n",
    "Now, when we define a function, we need to tell the computer what to do with a given input. To define the same function in NumPy, we would do:\n",
    "\n",
    "```\n",
    "def f(x):\n",
    "    return np.sqrt(1+3*(np.sin(x))**2)\n",
    "```\n",
    "\n",
    "A shortcut for this uses Python's `lambda` syntax: we can also write this in one line as\n",
    "\n",
    "`f = lambda x: np.sqrt(1+3*(np.sin(x))**2)`\n",
    "\n",
    "Let's see how Simpson's Rule works."
   ]
  },
  {
   "cell_type": "code",
   "execution_count": null,
   "id": "6c53b13b",
   "metadata": {},
   "outputs": [],
   "source": [
    "import numpy as np # import numpy. We don't need matplotlib since we're not graphing anything."
   ]
  },
  {
   "cell_type": "code",
   "execution_count": null,
   "id": "e048b785",
   "metadata": {
    "hidden": false
   },
   "outputs": [],
   "source": [
    "# this is a direct copy-paste from Patrick's website\n",
    "def simps(f,a,b,N=50):\n",
    "    '''Approximate the integral of f(x) from a to b by Simpson's rule.\n",
    "\n",
    "    Simpson's rule approximates the integral \\int_a^b f(x) dx by the sum:\n",
    "    (dx/3) \\sum_{k=1}^{N/2} (f(x_{2i-2} + 4f(x_{2i-1}) + f(x_{2i}))\n",
    "    where x_i = a + i*dx and dx = (b - a)/N.\n",
    "\n",
    "    Parameters\n",
    "    ----------\n",
    "    f : function\n",
    "        Vectorized function of a single variable\n",
    "    a , b : numbers\n",
    "        Interval of integration [a,b]\n",
    "    N : (even) integer\n",
    "        Number of subintervals of [a,b]\n",
    "\n",
    "    Returns\n",
    "    -------\n",
    "    float\n",
    "        Approximation of the integral of f(x) from a to b using\n",
    "        Simpson's rule with N subintervals of equal length.\n",
    "\n",
    "    Examples\n",
    "    --------\n",
    "    >>> simps(lambda x : 3*x**2,0,1,10)\n",
    "    1.0\n",
    "    '''\n",
    "    if N % 2 == 1:\n",
    "        raise ValueError(\"N must be an even integer.\")\n",
    "    dx = (b-a)/N\n",
    "    x = np.linspace(a,b,N+1)\n",
    "    y = f(x)\n",
    "    S = dx/3 * np.sum(y[0:-1:2] + 4*y[1::2] + y[2::2])\n",
    "    return S"
   ]
  },
  {
   "cell_type": "code",
   "execution_count": null,
   "id": "d3ba4cfb",
   "metadata": {
    "hidden": false
   },
   "outputs": [],
   "source": [
    "def f(x):\n",
    "    return np.sqrt(1+4*x**2) #note we need the numpy square root"
   ]
  },
  {
   "cell_type": "code",
   "execution_count": null,
   "id": "abd83481",
   "metadata": {
    "hidden": false
   },
   "outputs": [],
   "source": [
    "simps(f,0,4,20) # "
   ]
  },
  {
   "cell_type": "code",
   "execution_count": null,
   "id": "86ed16e6",
   "metadata": {
    "hidden": false
   },
   "outputs": [],
   "source": [
    "import sympy as sy #now do it exactly with sympy\n",
    "x = sy.symbols('x')\n",
    "g = sy.sqrt(1+4*x**2) #this is now a sympy square root\n",
    "g #display the function, which we can do because this is sympy. Use g so we don't overwrite f above."
   ]
  },
  {
   "cell_type": "code",
   "execution_count": null,
   "id": "20f65bbe",
   "metadata": {
    "hidden": false
   },
   "outputs": [],
   "source": [
    "sy.integrate(g,(x,0,4))"
   ]
  },
  {
   "cell_type": "code",
   "execution_count": null,
   "id": "71ff87a4",
   "metadata": {
    "hidden": false
   },
   "outputs": [],
   "source": [
    "sy.integrate(g,(x,0,4)).evalf()"
   ]
  },
  {
   "cell_type": "markdown",
   "id": "e9300406",
   "metadata": {
    "hidden": false
   },
   "source": [
    "Another way to do Simpson's rule is with the Integrate library from SciPy, which already has a built-in function for this. However, to integrate $f(x)$ over the interval $[a, b]$ this implementation requires us to first create the partition of $[a,b]$ to be used. The `linspace` function from NumPy does this for us. Note that we first give names to the values we will use, in case we want to change those later."
   ]
  },
  {
   "cell_type": "code",
   "execution_count": null,
   "id": "b6f00755",
   "metadata": {
    "hidden": false
   },
   "outputs": [],
   "source": [
    "import scipy.integrate as spi\n",
    "a=0; b=4; N=20\n",
    "x = np.linspace(a,b,N+1) # a partition into N subintervals requires N+1 points\n",
    "y = f(x)\n",
    "spi.simps(y,x)"
   ]
  },
  {
   "cell_type": "markdown",
   "id": "2489195c",
   "metadata": {
    "hidden": false
   },
   "source": [
    "And for comparison:"
   ]
  },
  {
   "cell_type": "code",
   "execution_count": null,
   "id": "58af48a1",
   "metadata": {
    "hidden": false
   },
   "outputs": [],
   "source": [
    "simps(f,a,b,N)"
   ]
  },
  {
   "cell_type": "markdown",
   "id": "37ac50f1",
   "metadata": {
    "hidden": false
   },
   "source": [
    "Looks good!\n",
    "\n",
    "Finally, what if you **do** want to work in SymPy first? Maybe you want to define an `arclength` function that takes $f(x)$ and $[a,b]$ as input, and gives you the length of $y=f(x)$, $a\\leq x\\leq b$ as output.\n",
    "\n",
    "And maybe you'd rather calculate the derivative symbolically, instead of numerically. (Then we'd have to talk about how to define numerical differentiation!)\n",
    "\n",
    "To do that, you need to start out working in SymPy, and then convert. To do this, SymPy has a `lambdify` command. Let's see how we could use that. First, let's define our function: $f(x)=x^2$."
   ]
  },
  {
   "cell_type": "code",
   "execution_count": null,
   "id": "d3053e93",
   "metadata": {
    "hidden": false
   },
   "outputs": [],
   "source": [
    "fx = x**2\n",
    "fx"
   ]
  },
  {
   "cell_type": "markdown",
   "id": "13eb2814",
   "metadata": {
    "hidden": false
   },
   "source": [
    "Whoops!! What went wrong here? We originally defined `x` as a SymPy symbol, but later, we defined `x` to be the partition we used for Simpson's Rule! We'd better redefine it. Or better yet, use a different variable."
   ]
  },
  {
   "cell_type": "code",
   "execution_count": null,
   "id": "9dc8a3a3",
   "metadata": {
    "hidden": false
   },
   "outputs": [],
   "source": [
    "z = sy.symbols('z')\n",
    "fz = z**2\n",
    "fz"
   ]
  },
  {
   "cell_type": "markdown",
   "id": "0ca80180",
   "metadata": {
    "hidden": false
   },
   "source": [
    "That's better. Now, we want to compute the function to be integrated:"
   ]
  },
  {
   "cell_type": "code",
   "execution_count": null,
   "id": "4cb642a2",
   "metadata": {
    "hidden": false
   },
   "outputs": [],
   "source": [
    "s = sy.sqrt(1+(fz.diff(z))**2)\n",
    "s"
   ]
  },
  {
   "cell_type": "markdown",
   "id": "bfca9149",
   "metadata": {
    "hidden": false
   },
   "source": [
    "This is what we want to integrate. But if we put this directly into our `simps` function, it's going to fail. First, we \"lambdify\":"
   ]
  },
  {
   "cell_type": "code",
   "execution_count": null,
   "id": "2231aaa7",
   "metadata": {
    "hidden": false
   },
   "outputs": [],
   "source": [
    "F = sy.lambdify(z,s,\"numpy\") # changes expression s, defined using variable z, to a numpy function"
   ]
  },
  {
   "cell_type": "code",
   "execution_count": null,
   "id": "76caaf6a",
   "metadata": {
    "hidden": false
   },
   "outputs": [],
   "source": [
    "F(x) # check that we can apply this to the array x"
   ]
  },
  {
   "cell_type": "markdown",
   "id": "33d23da6",
   "metadata": {
    "hidden": false
   },
   "source": [
    "Hooray! Now let's feed this through our `simps` function:"
   ]
  },
  {
   "cell_type": "code",
   "execution_count": null,
   "id": "fb05aca4",
   "metadata": {
    "hidden": false
   },
   "outputs": [],
   "source": [
    "simps(F,0,4,20)"
   ]
  },
  {
   "cell_type": "markdown",
   "id": "bc98634c",
   "metadata": {
    "hidden": false
   },
   "source": [
    "Bingo. Finally, maybe you want to package all this up into a function. We could do that too:"
   ]
  },
  {
   "cell_type": "code",
   "execution_count": null,
   "id": "5559232d",
   "metadata": {
    "hidden": false
   },
   "outputs": [],
   "source": [
    "def arclength(f,a,b,N): \n",
    "    '''approximate arclength of y=f(x) from a to b, using N segments.\n",
    "    \n",
    "    Assumes that:\n",
    "    - a function `simps` has been defined to implement Simpson's rule,\n",
    "      taking arguments a, b, N\n",
    "    - z has been defined as a SymPy symbol\n",
    "    - f has been defined as a SymPy function using the variable z'''\n",
    "    \n",
    "    F = sy.sqrt(1+(f.diff(z))**2)\n",
    "    G = sy.lambdify(z, F, \"numpy\")\n",
    "    return simps(G,a,b,N)    "
   ]
  },
  {
   "cell_type": "code",
   "execution_count": null,
   "id": "5a830e9d",
   "metadata": {
    "hidden": false
   },
   "outputs": [],
   "source": [
    "z = sy.symbols('z')\n",
    "f = z**2\n",
    "arclength(f,0,4,20)"
   ]
  },
  {
   "cell_type": "markdown",
   "id": "6364bb8a",
   "metadata": {
    "hidden": false
   },
   "source": [
    "![yes!](https://media1.giphy.com/media/vvbGMpbhZMcHSsD50w/giphy.gif?cid=ecf05e47gykqj6fbv1cnzv1786tew3h975csfyutcobpbv1d&rid=giphy.gif&ct=g)"
   ]
  },
  {
   "cell_type": "code",
   "execution_count": null,
   "id": "c817368a",
   "metadata": {
    "hidden": false
   },
   "outputs": [],
   "source": []
  }
 ],
 "metadata": {
  "kernelspec": {
   "display_name": "Python 3 (ipykernel)",
   "language": "python",
   "name": "python3"
  },
  "language_info": {
   "codemirror_mode": {
    "name": "ipython",
    "version": 3
   },
   "file_extension": ".py",
   "mimetype": "text/x-python",
   "name": "python",
   "nbconvert_exporter": "python",
   "pygments_lexer": "ipython3",
   "version": "3.9.7"
  }
 },
 "nbformat": 4,
 "nbformat_minor": 5
}
