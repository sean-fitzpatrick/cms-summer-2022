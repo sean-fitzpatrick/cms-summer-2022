{
 "cells": [
  {
   "cell_type": "markdown",
   "id": "driving-torture",
   "metadata": {},
   "source": [
    "# Math 2565 Assignment 1: Partial Fractions\n",
    "## University of Lethbridge\n",
    "### January 19, 2022\n",
    "\n",
    "The method of partial fraction decomposition is a useful tool for evaluating integrals of rational functions, and it comes up in other contexts as well, such as the method of Laplace transforms for differential equations.\n",
    "\n",
    "A problem (which one quickly discovers) is that determining the coefficients for a partial fraction decomposition can be an exercise that is both tedious and error-prone. The brute force method (equating coefficients and solving a system of equations) is not particularly efficient.\n",
    "\n",
    "If it turns out that partial fractions are going to be a part of your life, then you'd like to be able to handle them quickly and accurately. You have two options:\n",
    "\n",
    "1. Let the computer do it for you\n",
    "2. Develop systematic methods (formulas, even!) to get the job done\n",
    "\n",
    "On this assignment you'll explore both options, using the Sympy Python library."
   ]
  },
  {
   "cell_type": "code",
   "execution_count": null,
   "id": "objective-modification",
   "metadata": {},
   "outputs": [],
   "source": [
    "import sympy as sy\n",
    "sy.init_printing()\n",
    "x=sy.symbols('x')"
   ]
  },
  {
   "cell_type": "markdown",
   "id": "corporate-badge",
   "metadata": {},
   "source": [
    "Your assignment problems are as follows:\n",
    "\n",
    "### 1. Research and document how to manipulate rational functions using Sympy.\n",
    "\n",
    "First, take a minute to search online (try search terms like \"sympy partial fraction\").\n",
    "\n",
    "You'll probably discover some documentation, including details on the `apart()` command. Other commands that you might find useful include `factor()` and `simplify()`.\n",
    "\n",
    "(Note that \"simplify\" can take on many meanings, depending on the context. It does not always give you what you want.)\n",
    "\n",
    "In the markdown cell below, indicate:\n",
    "- usage for the `factor()` command\n",
    "- usage for the `apart()` command, including any optional arguments you may need, including why you might need `full=True` and how to use `extension` if your polynomial does not have rational roots\n",
    "- the sources for your documentation\n",
    "\n",
    "Note that in markdown, you can enter a URL with the syntax `[link text](link target)`. For example, the link [SymPy polynomial manipulation](https://docs.sympy.org/dev/modules/polys/reference.html) is entered using\n",
    "`[SymPy polynomial manipulation](https://docs.sympy.org/dev/modules/polys/reference.html)`."
   ]
  },
  {
   "cell_type": "markdown",
   "id": "buried-nigeria",
   "metadata": {},
   "source": []
  },
  {
   "cell_type": "markdown",
   "id": "affiliated-palace",
   "metadata": {},
   "source": [
    "### 2. Demonstrate how this works with the following examples.\n",
    "\n",
    "For each example, first use the `factor` command to determine the factors of the denominator (just for information purposes), and then use the `apart` command to perform the decomposition.\n",
    "\n",
    "Remember that you need to use `**` for exponents, and `*` for multiplication, even by a coefficient.\n",
    "\n",
    "a) For the function $f(x)=\\dfrac{3x^2-2x+1}{x^4+2x^3+2x^2+2x+1}$\n",
    "\n",
    "b) For the function $g(x)=\\dfrac{2x+1}{x^3+2x^2-3x-6}$\n",
    "\n",
    "c) For the function $h(x)=\\dfrac{1}{(x^2-a^2)(x-b)^3}$ \n",
    "\n",
    "(Don't forget to define $a$ and $b$ as symbols! You will also need to specify that $x$ is the variable in the `apart` command.)\n",
    "\n",
    "d) For the function $r(x) = \\dfrac{1}{ax^2+bx+1}$. (Example from [Stack Overflow](https://stackoverflow.com/questions/39816638/partial-fraction-from-apart).)\n",
    "\n",
    "(You might need to invoke `full=True` here, and append with `.doit()` to get a human-readable result.)\n",
    "\n",
    "Click the + button in the toolbar above to get additional code cells as needed."
   ]
  },
  {
   "cell_type": "code",
   "execution_count": null,
   "id": "optical-hypothetical",
   "metadata": {},
   "outputs": [],
   "source": []
  },
  {
   "cell_type": "markdown",
   "id": "portuguese-poultry",
   "metadata": {},
   "source": [
    "### 3. Determine formulas.\n",
    "\n",
    "a) Suppose $f(x) = \\dfrac{p(x)}{(x-a)q(x)}$, where the degree of $q(x)$ is greater than or equal to the degree of $p(x)$, and where $q(a)\\neq 0$ (so that $x-a$ is not a factor of $q(x)$).\n",
    "\n",
    "If $A$ is the coefficient of $\\dfrac{1}{x-a}$ in the partial fraction decomposition of $f(x)$, show that\n",
    "$$A = \\left.\\left(\\frac{p(x)}{q(x)}\\right)\\right\\vert_{x=a} = (x-a)f(x)\\vert_{x=a}.$$\n",
    "\n",
    "b) Suppose $f(x) = \\dfrac{p(x)}{(x-a)^kq(x)}$, where $\\deg(q(x))+k\\gt \\deg(p(x))$, and $q(a)\\neq 0$.\n",
    "In the decomposition\n",
    "\n",
    "$$f(x) = \\frac{A_0}{(x-a)^k}+\\frac{A_1}{(x-a)^{k-1}}+\\cdots+\\frac{A_{k-2}}{(x-a)^2}+\\frac{A_{k-1}}{x-a}+\\frac{r(x)}{q(x)},$$\n",
    "\n",
    "if $g(x) = \\dfrac{p(x)}{q(x)} = (x-a)^kf(x)$, show that $A_j = \\dfrac{g^{(j)}(a)}{j!}$ for each $j=0,1,\\ldots, k-1$.\n",
    "\n",
    "**Note**: if you want to do part (a) or (b) on paper, you can. Take a photo (JPG or PNG) and then upload it to Syzygy. If your file is `mywork.jpg` you can include it in a markdown cell using `![solution to part (b)](mywork.jpg)`. \n",
    "\n",
    "c) Confirm the result in part (b) for the function $f(x) = \\dfrac{x^2+5x+2}{(x-2)^4(x^2+1)}$.\n",
    "\n",
    "*Suggestion*: define $g(x)$ in a code cell, and then use the SymPy `diff` command to compute the derivatives. For example, $g'''(x)$ can be computed using `diff(g,x,x,x)` or `diff(g,x,3)`. You can then evaluate using the `subs()` command. For example, $g''(4)$ would be `diff(g,x,x).subs(x,4)`.\n",
    "\n",
    "Once you have computed $A_0, A_1, A_2, A_3$ using the method from part (b), confirm your work using the `apart` command."
   ]
  },
  {
   "cell_type": "code",
   "execution_count": null,
   "id": "occasional-healing",
   "metadata": {},
   "outputs": [],
   "source": []
  },
  {
   "cell_type": "markdown",
   "id": "invalid-manufacturer",
   "metadata": {},
   "source": [
    "### 4. What about irreducible quadratics?\n",
    "\n",
    "The above formulas only work for linear terms. What if you have an irreducible quadratic? Well, these are only irreducible if you insist on working over the real numbers. Over the **complex** numbers, they factor just fine! The formulas from Question 3 still work, if you allow $a$ to be a complex number.\n",
    "\n",
    "Of course, we don't want complex numbers in our answer, but the good news is that complex roots to real polynomials occur in *conjugate pairs* (like $x=\\pm 2i$ for $x^2+4$, or $x=2\\pm i$ for $x^2-4x+5$.\n",
    "\n",
    "a) Use the formula from part (a) of Question 3 to determine the coefficients of $\\dfrac{1}{x-2i}$ and $\\dfrac{1}{x+2i}$ for the function $f(x) = \\dfrac{2x+1}{(x-1)(x^2+4)}$.\n",
    "\n",
    "Note that the complex number $i=\\sqrt{-1}$ is called in Sympy as `sy.I`.\n",
    "\n",
    "b) Use the `together()` command to combine the two complex terms into a single term. Do any complex numbers remain?\n",
    "\n",
    "c) Use the `apart()` command to verify your work. Note that `apart(f,extention=sy.I)` will allow you to perform a partial fraction decomposition with complex factors.\n",
    "\n",
    "**Caution**: if you define (for example) $g(x)=(x-2i)f(x)$ (`g = (x-2*sy.I)*f`) and try to evaluate at $2i$, (using `g.subs(x,2*sy.I)`) you will get the answer `NaN` because this is really $0/0$. You can replace `subs` by `limit`, or define $g(x)$ as $\\dfrac{2x+1}{(x-1)(x+2i)}$ (i.e. cancel the $x-2i$ factors before evaluating).\n",
    "\n",
    "You may want to wrap many of your answers in `sy.simplify()` to get a nicer result."
   ]
  },
  {
   "cell_type": "code",
   "execution_count": null,
   "id": "thousand-attitude",
   "metadata": {},
   "outputs": [],
   "source": []
  }
 ],
 "metadata": {
  "kernelspec": {
   "display_name": "Python 3",
   "language": "python",
   "name": "python3"
  },
  "language_info": {
   "codemirror_mode": {
    "name": "ipython",
    "version": 3
   },
   "file_extension": ".py",
   "mimetype": "text/x-python",
   "name": "python",
   "nbconvert_exporter": "python",
   "pygments_lexer": "ipython3",
   "version": "3.9.7"
  }
 },
 "nbformat": 4,
 "nbformat_minor": 5
}
