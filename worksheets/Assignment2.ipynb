{
 "cells": [
  {
   "cell_type": "markdown",
   "id": "relevant-number",
   "metadata": {},
   "source": [
    "# Math 2565 Assignment 2\n",
    "## Arc length and surface area\n",
    "\n",
    "Let $f(x)$ be a function that is differentiable on a closed interval $[a, b]$. (For the meaning of differentiability on a closed interval, see [Section 2.1 in the textbook](https://opentext.uleth.ca/apex-accelerated/sec_derivative.html#subsection-7).)\n",
    "\n",
    "The **arc length** of the curve $y=f(x)$, for $a\\leq x\\leq b$, is given by\n",
    "\n",
    "$$L = \\int_a^b \\sqrt{1+(f'(x))^2}\\,dx.$$\n",
    "\n",
    "The argument for this formula is quite clever: we partition the interval $[a, b]$ using points\n",
    "$$x_0=a\\lt x_1 \\lt \\cdots \\lt x_n=b,$$\n",
    "and approximate the curve by the *polygonal path* passing through the points $(x_i, f(x_i))$, for $i=0,\\ldots, n$.\n",
    "\n",
    "The length of each segment is given by the distance formula:\n",
    "\n",
    "$$\\Delta L_i = \\sqrt{(x_{i+1}-x_i)^2+(f(x_{i+1})-f(x_i))^2} = \\sqrt{(\\Delta x_i)^2 + (f(x_{i+1})-f(x_i))^2} = \\Delta x_i\\sqrt{1+\\left(\\frac{f(x_{i+1}-f(x_i)}{x_{i+1}-x_i}\\right)^2}.$$\n",
    "\n",
    "Now, by the Mean Value Theorem, on each interval $[x_i,x_{i+1}]$, there exists some $c_i$ such that\n",
    "\n",
    "$$f'(c_i) = \\frac{f(x_{i+1})-f(x_i)}{x_{i+1}-x_i},$$\n",
    "\n",
    "giving us $\\Delta L_i = \\Delta x_i \\sqrt{1+(f'(c_i))^2}$. Putting this into a Riemann sum, we get our formula.\n",
    "\n",
    "The trouble is that for all but the most carefully chosen curves, the arc length formula results in an integral that is impossible to evaluate symbolically. (Have a look at the functions that appear [in the exercises for Section 7.4](https://opentext.uleth.ca/apex-accelerated/sec_arc_length.html#exercisegroup-146)!)\n",
    "\n",
    "### Problem 1\n",
    "\n",
    "The curve $y=x^2$ is usually considered to be one of the simplest examples in calculus. \n",
    "\n",
    "(a) Set up the integral to compute the arc length of $y=x^2$, for $0\\leq x\\leq 2$. Enter the result in the Markdown cell below. Enter `\\int` for an integral sign, and `\\sqrt{ }` for the square root of a function. Exponents are entered as `x^n`."
   ]
  },
  {
   "cell_type": "markdown",
   "id": "nearby-diamond",
   "metadata": {},
   "source": [
    "$$\\text{double-click to edit. delete this text and enter your equation here. keep the dollar signs}$$"
   ]
  },
  {
   "cell_type": "markdown",
   "id": "scientific-masters",
   "metadata": {},
   "source": [
    "(b) What trig substitution could you use to evaluate this integral? You don't have to do the substitution; just indicate what you would use. Trig functions can be typed as `\\sin(x)`, `\\cos(x)`, etc."
   ]
  },
  {
   "cell_type": "markdown",
   "id": "serious-windows",
   "metadata": {},
   "source": [
    "$$\\text{double-click to edit. delete this text and enter your equation here. keep the dollar signs}$$"
   ]
  },
  {
   "cell_type": "markdown",
   "id": "viral-breach",
   "metadata": {},
   "source": [
    "(c) Evaluate the integral using SymPy. You will have to enter the function before running the code."
   ]
  },
  {
   "cell_type": "code",
   "execution_count": null,
   "id": "exclusive-spectrum",
   "metadata": {},
   "outputs": [],
   "source": [
    "import sympy as sy\n",
    "f =\n",
    "f"
   ]
  },
  {
   "cell_type": "code",
   "execution_count": null,
   "id": "seasonal-definition",
   "metadata": {},
   "outputs": [],
   "source": [
    "sy.integrate(f,x)"
   ]
  },
  {
   "cell_type": "code",
   "execution_count": null,
   "id": "greatest-alliance",
   "metadata": {},
   "outputs": [],
   "source": [
    "sy.integrate(f,(x,0,4))"
   ]
  },
  {
   "cell_type": "markdown",
   "id": "related-flexibility",
   "metadata": {},
   "source": [
    "### Problem 2 \n",
    "\n",
    "Consider [problem 7.4.18 in the textbook](https://opentext.uleth.ca/apex-accelerated/sec_arc_length.html#exercise-1417), which advises you to set up, but not evaluate, the integral.\n",
    "\n",
    "(a) Set up the integral, as advised."
   ]
  },
  {
   "cell_type": "markdown",
   "id": "diagnostic-handling",
   "metadata": {},
   "source": [
    "$$\\text{double-click to edit. delete this text and enter your equation here. keep the dollar signs}$$"
   ]
  },
  {
   "cell_type": "markdown",
   "id": "processed-payday",
   "metadata": {},
   "source": [
    "(b) Try to evaluate the integral as you did in Problem 1. Attempt to compute both the definite and indefinite integrals."
   ]
  },
  {
   "cell_type": "code",
   "execution_count": null,
   "id": "optional-relaxation",
   "metadata": {},
   "outputs": [],
   "source": []
  },
  {
   "cell_type": "markdown",
   "id": "royal-identity",
   "metadata": {},
   "source": [
    "### Problem 3\n",
    "\n",
    "Review the [implementation of Simpson's Rule](https://personal.math.ubc.ca/~pwalls/math-python/integration/simpsons-rule/) given by Patrick Walls of UBC. Set things up as indicated, and then (approximately) evaluate the integral from Problem 2 using Simpson's Rule.\n",
    "\n",
    "Compare the results using 10, 50, and 100 rectangles."
   ]
  },
  {
   "cell_type": "code",
   "execution_count": null,
   "id": "corporate-dryer",
   "metadata": {},
   "outputs": [],
   "source": []
  },
  {
   "cell_type": "markdown",
   "id": "narrow-optimum",
   "metadata": {},
   "source": [
    "**Note**: it is possible that this will fail, due to the fact that $f'(x)$ is undefined at the endpoints of the interval. If this is the case, use the interval $[-2,2]$ instead of the interval $[-3,3]$."
   ]
  },
  {
   "cell_type": "code",
   "execution_count": null,
   "id": "binding-medicine",
   "metadata": {},
   "outputs": [],
   "source": []
  },
  {
   "cell_type": "markdown",
   "id": "dedicated-belize",
   "metadata": {},
   "source": [
    "### Problem 4 (Bonus)\n",
    "\n",
    "This problem should be solved on paper, and submitted as a separate file on Crowdmark (unless you want to include it here in a Markdown cell).\n",
    "\n",
    "Suppose we are given a curve $y=f(x)$, for $x\\in [a, b]$, where $f$ is a one-to-one function. If $f$ is one-to-one, then it has an inverse, and we can instead write the curve as $x=f^{-1}(y)$, for $y\\in [c,d]$. (Here, $c=f(a)$ and $d=f(b)$ if $f$ is increasing; or $c=f(b)$ and $d=f(a)$, if $f$ is decreasing.)\n",
    "\n",
    "The length of the curve can be given as either\n",
    "$$L=\\int_a^b\\sqrt{1+(f'(x))^2}\\,dx \\quad \\text{ or } \\quad L=\\int_c^d \\sqrt{(g'(y))^2+1}\\,dy,$$\n",
    "\n",
    "where $g(y) = f^{-1}(y)$. (For the latter, we just plug the function $f^{-1}(y)$ into the arc length formula.)\n",
    "\n",
    "There is an interesting way to think about this. It is technically an \"abuse of notation\" but it produces the correct results: we introduce the \"arc length element\"\n",
    "\n",
    "$$ds = \\sqrt{dx^2+dy^2}.$$\n",
    "\n",
    "If we want to write $y$ as a function of $x$, we \"factor out\" the $dx^2$, and write $\\sqrt{dx^2}=dx$:\n",
    "\n",
    "$$ds = \\sqrt{dx^2(1+dy^2/dx^2)} = \\sqrt{1+\\left(\\frac{dy}{dx}\\right)^2}\\,dx = \\sqrt{1+(f'(x))^2}\\,dx.$$\n",
    "\n",
    "If we want to write $x$ as a function of $y$, we \"factor out\" the $dy^2$:\n",
    "\n",
    "$$ds = \\sqrt{(dx^2/dy^2+1)dy^2} = \\sqrt{\\left(\\frac{dx}{dy}\\right)^2+1}\\,dy = \\sqrt{(g'(y))^2+1}\\,dy.$$\n",
    "\n",
    "\n",
    "Now, returning to our curve $y=f(x)$, we can also revolve it about one of the two coordinate axes to generate a surface. We can then attempte to compute the surface area of the resulting surface. The formula for surface area is given by\n",
    "\n",
    "$$S = \\int_a^b 2\\pi R\\,ds,$$\n",
    "\n",
    "where $R$ is the radius of the circle generated by a single point on the curve. If we revolve around the $x$ axis, then $R$ is vertical distance, so $R=y=f(x)$, giving the formula\n",
    "\n",
    "$$S = \\int_a^b 2\\pi f(x)\\sqrt{1+(f'(x))^2}\\,dx.$$\n",
    "\n",
    "If we revolve around the $y$ axis, then $R$ is horizontal distance, so $R=x$, and we get\n",
    "\n",
    "$$S = \\int_a^b 2\\pi x\\sqrt{1+(f'(x))^2}\\,dx.$$\n",
    "\n",
    "(a) If we were to write $x$ as a function of $y$ instead, what would be the corresponding formulas for the surface area, for both revolution about the $x$ axis, and revolution about the $y$ axis?\n",
    "\n",
    "(b) What would the formula look like if we wanted to revolve about an axis of the form $x=x_0$ or $y=y_0$ instead? (Assume that the curve does not intersect this axis.)\n",
    "\n",
    "(c) Can you find an example of a curve where the surface area leads to an integral that is impossible to evaluate symbolically if you integrate with respect to $x$, but the same area can be computed if you instead integrate with respect to $y$?\n"
   ]
  },
  {
   "cell_type": "code",
   "execution_count": null,
   "id": "breeding-married",
   "metadata": {},
   "outputs": [],
   "source": []
  }
 ],
 "metadata": {
  "kernelspec": {
   "display_name": "Python 3",
   "language": "python",
   "name": "python3"
  },
  "language_info": {
   "codemirror_mode": {
    "name": "ipython",
    "version": 3
   },
   "file_extension": ".py",
   "mimetype": "text/x-python",
   "name": "python",
   "nbconvert_exporter": "python",
   "pygments_lexer": "ipython3",
   "version": "3.9.7"
  }
 },
 "nbformat": 4,
 "nbformat_minor": 5
}
