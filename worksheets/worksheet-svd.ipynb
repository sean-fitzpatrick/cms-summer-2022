{
 "cells": [
  {
   "cell_type": "markdown",
   "metadata": {},
   "source": [
    "$\\newcommand{\\spn}{\\operatorname{span}}\n",
    "\\newcommand{\\bbm}{\\begin{bmatrix}}\n",
    "\\newcommand{\\ebm}{\\end{bmatrix}}\n",
    "\\newcommand{\\R}{\\mathbb{R}}\n",
    "\\renewcommand{\\C}{\\mathbb{C}}\n",
    "\\newcommand{\\im}{\\operatorname{im}}\n",
    "\\newcommand{\\nll}{\\operatorname{null}}\n",
    "\\newcommand{\\csp}{\\operatorname{col}}\n",
    "\\newcommand{\\rank}{\\operatorname{rank}}\n",
    "\\newcommand{\\diag}{\\operatorname{diag}}\n",
    "\\newcommand{\\tr}{\\operatorname{tr}}\n",
    "\\newcommand{\\dotp}{\\!\\boldsymbol{\\cdot}\\!}\n",
    "\\newcommand{\\len}[1]{\\lVert #1\\rVert}\n",
    "\\newcommand{\\abs}[1]{\\lvert #1\\rvert}\n",
    "\\newcommand{\\proj}[2]{\\operatorname{proj}_{#1}{#2}}\n",
    "\\newcommand{\\bz}{\\overline{z}}\n",
    "\\newcommand{\\zz}{\\mathbf{z}}\n",
    "\\newcommand{\\uu}{\\mathbf{u}}\n",
    "\\newcommand{\\vv}{\\mathbf{v}}\n",
    "\\newcommand{\\ww}{\\mathbf{w}}\n",
    "\\newcommand{\\xx}{\\mathbf{x}}\n",
    "\\newcommand{\\yy}{\\mathbf{y}}\n",
    "\\newcommand{\\zer}{\\mathbf{0}}\n",
    "\\newcommand{\\vecq}{\\mathbf{q}}\n",
    "\\newcommand{\\vecp}{\\mathbf{p}}\n",
    "\\newcommand{\\vece}{\\mathbf{e}}\n",
    "\\newcommand{\\basis}[2]{\\{\\mathbf{#1}_1,\\mathbf{#1}_2,\\ldots,\\mathbf{#1}_{#2}\\}}\n",
    "\\newcommand{\\amp}{&}\n",
    "$"
   ]
  },
  {
   "cell_type": "markdown",
   "metadata": {},
   "source": [
    "# Worksheet: Singular Value Decomposition"
   ]
  },
  {
   "cell_type": "markdown",
   "metadata": {},
   "source": [
    "For this worksheet, the reader is directed to Section 8.6 of *Linear Algebra with Applications*, by Keith Nicholson, and, of course, to [Section 4.5](https://opentext.uleth.ca/Math3410/section-matrix-factor.html). (See also this [notebook by Dr. Juan H Klopper](https://www.juanklopper.com/wp-content/uploads/2015/03/III%5F05%5FSingular%5Fvalue%5Fdecomposition.html).)\n",
    "\n",
    "In [Section 4.5](https://opentext.uleth.ca/Math3410/section-matrix-factor.html) we saw that the `svd` algorithm in the `mpmath` library does things a little bit differently than Nicholson. If we start with a square matrix $A$, the results are the same, but if $A$ is not square, the decomposition $A = P\\Sigma_A Q^T$ looks a little different. In particular, if $A$ is $m\\times n$, the matrix $\\Sigma_A$ defined in Nicholson will also be $m\\times n\\text{,}$ but it will contain some rows or columns of zeros that are added to get the desired size. \n",
    "\n",
    "The matrix $Q$ is an orthogonal $n\\times n$ matrix whose columns are an orthonormal basis of eigenvectors for $A^TA\\text{.}$ The matrix $P$ is an orthogonal $m\\times m$ matrix whose columns are an orthonormal basis of $\\R^m\\text{.}$ (The first $r$ columns of $P$ are given by $A\\vecq_i\\text{,}$ where $\\vecq_i$ is the eigenvector of $A^TA$ corresponding to the positive singular value $\\sigma_i\\text{.}$)\n",
    "\n",
    "The `svd` algorithm provided by mpmath replaces $\\Sigma_A$ by the $m\\times m$ diagonal matrix of singular values. The matrix $Q$ is replaced by the $m\\times n$ matrix whose columns are the first $m$ eigenvectors of $A^TA\\text{.}$ (Note that the rank of $A^TA$ is equal to the rank of $A\\text{,}$ which is equal to the number of nonzero eigenvectors of $A^TA$ (counted with multiplicity).) So we will have $m\\geq r\\text{,}$ where $r$ is the number of nonzero singular values.\n",
    "\n",
    "The product $\\Sigma_A Q^T$ will be the same in both cases, and the matrix $P$ is the same as well."
   ]
  },
  {
   "cell_type": "markdown",
   "metadata": {},
   "source": [
    "This time, rather than using the mpmath algorithm, we will work through the process as outlined in Nicholson step-by-step. First, we will work through (again) Example 8.6.1 in Nicholson. Let $A = \\bbm 1\\amp 0\\amp 1\\\\-1\\amp 1\\amp 0\\ebm\\text{.}$ First, we get the singular values:"
   ]
  },
  {
   "cell_type": "code",
   "execution_count": null,
   "metadata": {},
   "outputs": [],
   "source": [
    "from sympy import Matrix,init_printing\n",
    "init_printing()\n",
    "A = Matrix([[1,0,1],[-1,1,0]])\n",
    "L0=A.singular_values()\n",
    "L0"
   ]
  },
  {
   "cell_type": "markdown",
   "metadata": {},
   "source": [
    "Next, we get the eigenvalues and eigenvectors of $A^TA\\text{:}$"
   ]
  },
  {
   "cell_type": "code",
   "execution_count": null,
   "metadata": {},
   "outputs": [],
   "source": [
    "B = (A.T)*A\n",
    "L1=B.eigenvects()\n",
    "L1"
   ]
  },
  {
   "cell_type": "markdown",
   "metadata": {},
   "source": [
    "Now we need to normalize the eigenvectors, in the correct order. Note that the eigenvectors were listed in *increasing* order of eigenvalue, so we need to reverse the order. Note that `L1` is a list of lists. The eigenvector is the third entry (index 2) in the list (eigenvalue, multiplicity, eigenvector). We also need to turn list elements into matrices. So, for example the second eigenvector is `Matrix(L1[1][2])`."
   ]
  },
  {
   "cell_type": "code",
   "execution_count": null,
   "metadata": {},
   "outputs": [],
   "source": [
    "R1=Matrix(L1[2][2])\n",
    "R2=Matrix(L1[1][2])\n",
    "R3=Matrix(L1[0][2])\n",
    "Q1 = (1/R1.norm())*R1\n",
    "Q2 = (1/R2.norm())*R2\n",
    "Q3 = (1/R3.norm())*R3\n",
    "Q1,Q2,Q3"
   ]
  },
  {
   "cell_type": "markdown",
   "metadata": {},
   "source": [
    "Next, we can assemble these vectors into a matrix, and confirm that it's orthogonal."
   ]
  },
  {
   "cell_type": "code",
   "execution_count": null,
   "metadata": {},
   "outputs": [],
   "source": [
    "from sympy import BlockMatrix\n",
    "Q = Matrix(BlockMatrix([Q1,Q2,Q3]))\n",
    "Q,Q*Q.T"
   ]
  },
  {
   "cell_type": "markdown",
   "metadata": {},
   "source": [
    "We've made the matrix $Q\\text{!}$ Next, we construct $\\Sigma_A\\text{.}$ This we will do by hand. (Can you think of a way to do it automatically?)"
   ]
  },
  {
   "cell_type": "code",
   "execution_count": null,
   "metadata": {},
   "outputs": [],
   "source": [
    "SigA = Matrix([[L0[0],0,0],[0,L0[1],0]])\n",
    "SigA"
   ]
  },
  {
   "cell_type": "markdown",
   "metadata": {},
   "source": [
    "Alternatively, you could do `SigA = diag(L0[0],L0[1]).row_join(Matrix([0,0]))`. Finally, we need to make the matrix $P\\text{.}$ First, we find the vectors $A\\vecq_1, A\\vecq_2$ and normalize. (Note that $A\\vecq_3=\\zer\\text{,}$ so this vector is unneeded, as expected.)"
   ]
  },
  {
   "cell_type": "code",
   "execution_count": null,
   "metadata": {},
   "outputs": [],
   "source": [
    "S1 = A*Q1\n",
    "S2 = A*Q2\n",
    "P1 = (1/S1.norm())*S1\n",
    "P2 = (1/S2.norm())*S2\n",
    "P = Matrix(BlockMatrix([P1,P2]))\n",
    "P"
   ]
  },
  {
   "cell_type": "markdown",
   "metadata": {},
   "source": [
    "Note that the matrix $P$ is already the correct size, because $\\rank(A)=2\\dim(\\R^2)\\text{.}$ In general, for an $m\\times n$ matrix $A\\text{,}$ if $\\rank(A)=r\\lt m\\text{,}$ we would have to extend the set $\\{\\vecp_1,\\ldots, \\vecp_r\\}$ to a basis for $\\R^m\\text{.}$ Finally, we check that our matrices work as advertised."
   ]
  },
  {
   "cell_type": "code",
   "execution_count": null,
   "metadata": {},
   "outputs": [],
   "source": [
    "P*SigA*(Q.T)"
   ]
  },
  {
   "cell_type": "markdown",
   "metadata": {},
   "source": [
    "For convenience, here is all of the above code, with all print commands (except the last one) removed. This can be run as a single code cell."
   ]
  },
  {
   "cell_type": "markdown",
   "metadata": {},
   "source": [
    "```\n",
    "from sympy import Matrix,BlockMatrix,init_printing,diag\n",
    "init_printing()\n",
    "A = Matrix([[1,0,1],[-1,1,0]])\n",
    "B=(A.T)*A\n",
    "L0=A.singular_values()\n",
    "L1=B.eigenvects()\n",
    "R1=Matrix(L1[2][2])\n",
    "R2=Matrix(L1[1][2])\n",
    "R3=Matrix(L1[0][2])\n",
    "Q1 = (1/R1.norm())*R1\n",
    "Q2 = (1/R2.norm())*R2\n",
    "Q3 = (1/R3.norm())*R3\n",
    "Q = Matrix(BlockMatrix([Q1,Q2,Q3]))\n",
    "SigA = diag(L0[0],L0[1]).row_join(Matrix([0,0]))\n",
    "S1 = A*Q1\n",
    "S2 = A*Q2\n",
    "P1 = (1/S1.norm())*S1\n",
    "P2 = (1/S2.norm())*S2\n",
    "P = Matrix(BlockMatrix([P1,P2]))\n",
    "P,SigA,Q,P*SigA*Q.T\n",
    "```\n",
    "Listing 4.6.1. SymPy code for a singular value decomposition example"
   ]
  },
  {
   "cell_type": "markdown",
   "metadata": {},
   "source": [
    "## Problem 1. (10 points)\n",
    "Do Exercise 8.6.9 in Nicholson: compute the SVD for the matrices\n",
    "$$\n",
    "\\bbm 1\\amp -1\\\\1\\amp 0\\\\0\\amp 1\\ebm \\quad \\text{ and } \\quad \\bbm 1\\amp 1\\amp 1\\\\-1\\amp 0\\amp -2 \\\\1\\amp 2\\amp 0\\ebm\\text{.}\n",
    "$$\n",
    "\n",
    "Note that for these matrices, you will need to do some additional work to extend the $\\vecp_i$ vectors to an orthonormal basis. You can adapt the code above, but you will have to think about how to implement additional code to construct any extra vectors you need."
   ]
  },
  {
   "cell_type": "code",
   "execution_count": null,
   "metadata": {},
   "outputs": [],
   "source": []
  },
  {
   "cell_type": "markdown",
   "metadata": {},
   "source": [
    "## Problem 2. (5 points)\n",
    "Either by reading Nicholson or by searching online (or both), come up with at least two answers to the question: “Why are people interested in the singular value decomposition?”"
   ]
  },
  {
   "cell_type": "code",
   "execution_count": null,
   "metadata": {},
   "outputs": [],
   "source": []
  },
  {
   "cell_type": "markdown",
   "metadata": {},
   "source": [
    "## Problem 3. (Bonus -- 5 points) \n",
    "\n",
    "See if you can improve on the code provided above. Can you write a program to compute the SVD directly from a given matrix? The code I provided above assumes we know the size of the matrix, and the matrix $\\Sigma_A$ is entered manually. A better program would take a SymPy matrix `A` as input, read the size of the matrix (there are commands to do this [in the documentation](https://docs.sympy.org/latest/tutorial/matrices.html)), and then construct the matrices $P,\\Sigma_A,Q$ automatically."
   ]
  },
  {
   "cell_type": "code",
   "execution_count": null,
   "metadata": {},
   "outputs": [],
   "source": []
  }
 ],
 "metadata": {
  "kernelspec": {
   "display_name": "Python 3",
   "language": "python",
   "name": "python3"
  },
  "language_info": {
   "codemirror_mode": {
    "name": "ipython",
    "version": 3
   },
   "file_extension": ".py",
   "mimetype": "text/x-python",
   "name": "python",
   "nbconvert_exporter": "python",
   "pygments_lexer": "ipython3",
   "version": "3.9.7"
  },
  "name": "worksheet-svd.ipynb"
 },
 "nbformat": 4,
 "nbformat_minor": 1
}
